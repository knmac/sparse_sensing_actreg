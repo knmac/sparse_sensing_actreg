{
 "cells": [
  {
   "cell_type": "markdown",
   "metadata": {},
   "source": [
    "# Check FLOPS of SAN19 wrt different input size"
   ]
  },
  {
   "cell_type": "code",
   "execution_count": 1,
   "metadata": {},
   "outputs": [],
   "source": [
    "import sys\n",
    "import os\n",
    "\n",
    "import torch\n",
    "import matplotlib.pyplot as plt\n",
    "%matplotlib inline\n",
    "\n",
    "sys.path.insert(0, os.path.abspath('..'))\n",
    "\n",
    "from src.models.san import SAN, Bottleneck\n",
    "from tools.complexity import (get_model_complexity_info,\n",
    "                              is_supported_instance,\n",
    "                              flops_to_string,\n",
    "                              get_model_parameters_number)"
   ]
  },
  {
   "cell_type": "code",
   "execution_count": 2,
   "metadata": {},
   "outputs": [],
   "source": [
    "def collect_flops(model, units='GMac', precision=3):\n",
    "    \"\"\"Wrapper to collect flops and number of parameters at each layer\"\"\"\n",
    "    total_flops = model.compute_average_flops_cost()\n",
    "\n",
    "    def accumulate_flops(self):\n",
    "        if is_supported_instance(self):\n",
    "            return self.__flops__ / model.__batch_counter__\n",
    "        else:\n",
    "            sum = 0\n",
    "            for m in self.children():\n",
    "                sum += m.accumulate_flops()\n",
    "            return sum\n",
    "\n",
    "    def flops_repr(self):\n",
    "        accumulated_flops_cost = self.accumulate_flops()\n",
    "        return ', '.join([flops_to_string(accumulated_flops_cost, units=units, precision=precision),\n",
    "                          '{:.3%} MACs'.format(accumulated_flops_cost / total_flops),\n",
    "                          self.original_extra_repr()])\n",
    "\n",
    "    def add_extra_repr(m):\n",
    "        m.accumulate_flops = accumulate_flops.__get__(m)\n",
    "        flops_extra_repr = flops_repr.__get__(m)\n",
    "        if m.extra_repr != flops_extra_repr:\n",
    "            m.original_extra_repr = m.extra_repr\n",
    "            m.extra_repr = flops_extra_repr\n",
    "            assert m.extra_repr != m.original_extra_repr\n",
    "\n",
    "    def del_extra_repr(m):\n",
    "        if hasattr(m, 'original_extra_repr'):\n",
    "            m.extra_repr = m.original_extra_repr\n",
    "            del m.original_extra_repr\n",
    "        if hasattr(m, 'accumulate_flops'):\n",
    "            del m.accumulate_flops\n",
    "\n",
    "    model.apply(add_extra_repr)\n",
    "    # print(model, file=ost)\n",
    "\n",
    "    # Retrieve flops and param at each layer and sub layer (2 levels)\n",
    "    flops_dict, param_dict = {}, {}\n",
    "    for i in model._modules.keys():\n",
    "        item = model._modules[i]\n",
    "        if isinstance(model._modules[i], torch.nn.modules.container.Sequential):\n",
    "            for j in model._modules[i]._modules.keys():\n",
    "                key = '{}-{}'.format(i, j)\n",
    "                flops_dict[key] = item._modules[j].accumulate_flops()\n",
    "                param_dict[key] = get_model_parameters_number(item._modules[j])\n",
    "        else:\n",
    "            flops_dict[i] = item.accumulate_flops()\n",
    "            param_dict[i] = get_model_parameters_number(item)\n",
    "\n",
    "    model.apply(del_extra_repr)\n",
    "    return flops_dict, param_dict\n",
    "\n",
    "\n",
    "def run_experiment(model, in_size=(3, 224, 224), verbose=True):\n",
    "    macs, params = get_model_complexity_info(model, in_size, as_strings=True, print_per_layer_stat=False)\n",
    "    print('{:<30}  {:<8}'.format('Computational complexity: ', macs))\n",
    "    print('{:<30}  {:<8}'.format('Number of parameters: ', params))\n",
    "    print()\n",
    "\n",
    "    if verbose:\n",
    "        print('{:<15} {:>12} {:>12} {:>12} {:>12}'.format(\n",
    "            'Layer', 'Flops (GMac)', 'Param (M)', 'AccFlops', 'AccParam'))\n",
    "        print('-'*67)\n",
    "        flops_dict, param_dict = collect_flops(model)\n",
    "        total_flops, total_param = 0, 0\n",
    "        for k in flops_dict:\n",
    "            total_flops += flops_dict[k]*1e-9\n",
    "            total_param += param_dict[k]*1e-6\n",
    "            print('{:<15} {:>12.5f} {:>12.5f} {:>12.2f} {:>12.2f}'.format(\n",
    "                k, flops_dict[k]*1e-9, param_dict[k]*1e-6, total_flops, total_param))\n",
    "    return macs"
   ]
  },
  {
   "cell_type": "code",
   "execution_count": 3,
   "metadata": {},
   "outputs": [
    {
     "name": "stdout",
     "output_type": "stream",
     "text": [
      "side = 224\n",
      "Computational complexity:       3.84 GMac\n",
      "Number of parameters:           15.55 M \n",
      "\n",
      "------------------------------------------------------------------\n",
      "side = 112\n",
      "Computational complexity:       0.92 GMac\n",
      "Number of parameters:           15.55 M \n",
      "\n",
      "------------------------------------------------------------------\n",
      "side = 64\n",
      "Computational complexity:       0.31 GMac\n",
      "Number of parameters:           15.55 M \n",
      "\n",
      "------------------------------------------------------------------\n"
     ]
    }
   ],
   "source": [
    "# SAN 19 - pairwise\n",
    "model = SAN(\n",
    "    sa_type=0,\n",
    "    block=Bottleneck,\n",
    "    layers=[3, 3, 4, 6, 3],\n",
    "    kernels=[3, 7, 7, 7, 7],\n",
    "    num_classes=1000,\n",
    ").cuda()\n",
    "delattr(model, 'fc')\n",
    "\n",
    "in_side_lst = [224, 112, 64]\n",
    "for in_side in in_side_lst:\n",
    "    print('side =', in_side)\n",
    "    run_experiment(model, in_size=(3, in_side, in_side), verbose=False)\n",
    "    print('------------------------------------------------------------------')"
   ]
  },
  {
   "cell_type": "code",
   "execution_count": 4,
   "metadata": {
    "scrolled": true
   },
   "outputs": [
    {
     "name": "stdout",
     "output_type": "stream",
     "text": [
      "64\n",
      "Computational complexity:       0.31 GMac\n",
      "Number of parameters:           15.55 M \n",
      "\n",
      "74\n",
      "Computational complexity:       0.36 GMac\n",
      "Number of parameters:           15.55 M \n",
      "\n",
      "84\n",
      "Computational complexity:       0.47 GMac\n",
      "Number of parameters:           15.55 M \n",
      "\n",
      "94\n",
      "Computational complexity:       0.52 GMac\n",
      "Number of parameters:           15.55 M \n",
      "\n",
      "104\n",
      "Computational complexity:       0.77 GMac\n",
      "Number of parameters:           15.55 M \n",
      "\n",
      "114\n",
      "Computational complexity:       0.92 GMac\n",
      "Number of parameters:           15.55 M \n",
      "\n",
      "124\n",
      "Computational complexity:       1.0 GMac\n",
      "Number of parameters:           15.55 M \n",
      "\n",
      "134\n",
      "Computational complexity:       1.28 GMac\n",
      "Number of parameters:           15.55 M \n",
      "\n",
      "144\n",
      "Computational complexity:       1.53 GMac\n",
      "Number of parameters:           15.55 M \n",
      "\n",
      "154\n",
      "Computational complexity:       1.62 GMac\n",
      "Number of parameters:           15.55 M \n",
      "\n",
      "164\n",
      "Computational complexity:       1.98 GMac\n",
      "Number of parameters:           15.55 M \n",
      "\n",
      "174\n",
      "Computational complexity:       2.09 GMac\n",
      "Number of parameters:           15.55 M \n",
      "\n",
      "184\n",
      "Computational complexity:       2.41 GMac\n",
      "Number of parameters:           15.55 M \n",
      "\n",
      "194\n",
      "Computational complexity:       2.83 GMac\n",
      "Number of parameters:           15.55 M \n",
      "\n",
      "204\n",
      "Computational complexity:       2.97 GMac\n",
      "Number of parameters:           15.55 M \n",
      "\n",
      "214\n",
      "Computational complexity:       3.26 GMac\n",
      "Number of parameters:           15.55 M \n",
      "\n",
      "224\n",
      "Computational complexity:       3.84 GMac\n",
      "Number of parameters:           15.55 M \n",
      "\n"
     ]
    }
   ],
   "source": [
    "side_lst = []\n",
    "flops_lst = []\n",
    "for i in range(64, 224+1, 10):\n",
    "    print(i)\n",
    "    flops = run_experiment(model, in_size=(3, i, i), verbose=False)\n",
    "    side_lst.append(i)\n",
    "    flops_lst.append(flops)"
   ]
  },
  {
   "cell_type": "code",
   "execution_count": 5,
   "metadata": {},
   "outputs": [
    {
     "data": {
      "text/plain": [
       "Text(0, 0.5, 'FLOPS (GMac)')"
      ]
     },
     "execution_count": 5,
     "metadata": {},
     "output_type": "execute_result"
    },
    {
     "data": {
      "image/png": "[encoded data removed]",
      "text/plain": [
       "<Figure size 432x288 with 1 Axes>"
      ]
     },
     "metadata": {
      "needs_background": "light"
     },
     "output_type": "display_data"
    }
   ],
   "source": [
    "flops_lst = [float(x.replace(' GMac', '')) for x in flops_lst]\n",
    "plt.plot(side_lst, flops_lst)\n",
    "plt.xlabel('Side')\n",
    "plt.ylabel('FLOPS (GMac)')"
   ]
  }
 ],
 "metadata": {
  "kernelspec": {
   "display_name": "Python 3",
   "language": "python",
   "name": "python3"
  },
  "language_info": {
   "codemirror_mode": {
    "name": "ipython",
    "version": 3
   },
   "file_extension": ".py",
   "mimetype": "text/x-python",
   "name": "python",
   "nbconvert_exporter": "python",
   "pygments_lexer": "ipython3",
   "version": "3.6.8"
  }
 },
 "nbformat": 4,
 "nbformat_minor": 4
}
