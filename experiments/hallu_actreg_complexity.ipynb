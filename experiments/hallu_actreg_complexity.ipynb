{
 "cells": [
  {
   "cell_type": "code",
   "execution_count": 1,
   "metadata": {},
   "outputs": [],
   "source": [
    "import sys\n",
    "import os\n",
    "import argparse\n",
    "\n",
    "import torch\n",
    "\n",
    "sys.path.insert(0, os.path.abspath('..'))\n",
    "\n",
    "from src.utils.load_cfg import ConfigLoader\n",
    "from src.factories import ModelFactory\n",
    "from tools.complexity import (get_model_complexity_info,\n",
    "                              is_supported_instance,\n",
    "                              flops_to_string,\n",
    "                              get_model_parameters_number)\n",
    "device = torch.device('cuda' if torch.cuda.is_available() else 'cpu')\n",
    "model_factory = ModelFactory()"
   ]
  },
  {
   "cell_type": "code",
   "execution_count": 2,
   "metadata": {},
   "outputs": [
    {
     "name": "stdout",
     "output_type": "stream",
     "text": [
      "num_segments = 1\n",
      "Computational complexity:       18144896.0\n",
      "Number of parameters:           92480   \n"
     ]
    }
   ],
   "source": [
    "num_segments = 1\n",
    "model = model_factory.generate(\n",
    "    model_name='HalluConvLSTM',\n",
    "    device=device,\n",
    "    num_segments=num_segments,\n",
    "    attention_dim=[32, 14, 14],\n",
    "    rnn_input_dim=32,\n",
    "    rnn_hidden_dim=32,\n",
    "    rnn_num_layers=1,\n",
    "    has_encoder_decoder=True,\n",
    ").to(device)\n",
    "\n",
    "macs, params = get_model_complexity_info(\n",
    "    model,\n",
    "    (num_segments, 32, 14, 14),\n",
    "    as_strings=False,\n",
    "    print_per_layer_stat=False,\n",
    ")\n",
    "\n",
    "print('num_segments = {}'.format(num_segments))\n",
    "print('{:<30}  {:<8}'.format('Computational complexity: ', macs))\n",
    "print('{:<30}  {:<8}'.format('Number of parameters: ', params))"
   ]
  },
  {
   "cell_type": "code",
   "execution_count": 3,
   "metadata": {},
   "outputs": [
    {
     "name": "stdout",
     "output_type": "stream",
     "text": [
      "num_segments = 1\n",
      "Computational complexity:       245249.0\n",
      "Number of parameters:           3918301 \n"
     ]
    }
   ],
   "source": [
    "num_segments = 1\n",
    "n_modality = 2\n",
    "model = model_factory.generate(\n",
    "    model_name='ActregGRU',\n",
    "    device=device,\n",
    "    modality=['RGB', 'Spec'],\n",
    "    num_segments=num_segments,\n",
    "    num_class=[125, 352],\n",
    "    dropout=0.5,\n",
    "    feature_dim=2048,\n",
    "    rnn_input_size=512,\n",
    "    rnn_hidden_size=512,\n",
    "    rnn_num_layers=1,\n",
    ").to(device)\n",
    "\n",
    "macs, params = get_model_complexity_info(\n",
    "    model,\n",
    "    (num_segments, n_modality*2048),\n",
    "    as_strings=False,\n",
    "    print_per_layer_stat=False,\n",
    ")\n",
    "\n",
    "print('num_segments = {}'.format(num_segments))\n",
    "print('{:<30}  {:<8}'.format('Computational complexity: ', macs))\n",
    "print('{:<30}  {:<8}'.format('Number of parameters: ', params))"
   ]
  }
 ],
 "metadata": {
  "kernelspec": {
   "display_name": "Python 3",
   "language": "python",
   "name": "python3"
  },
  "language_info": {
   "codemirror_mode": {
    "name": "ipython",
    "version": 3
   },
   "file_extension": ".py",
   "mimetype": "text/x-python",
   "name": "python",
   "nbconvert_exporter": "python",
   "pygments_lexer": "ipython3",
   "version": "3.6.8"
  }
 },
 "nbformat": 4,
 "nbformat_minor": 4
}
