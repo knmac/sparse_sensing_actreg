{
 "cells": [
  {
   "cell_type": "code",
   "execution_count": 1,
   "metadata": {},
   "outputs": [],
   "source": [
    "import sys\n",
    "import os\n",
    "\n",
    "import torch\n",
    "import numpy as np\n",
    "import matplotlib.pyplot as plt\n",
    "import seaborn as sns\n",
    "%matplotlib inline\n",
    "\n",
    "sys.path.insert(0, os.path.abspath('..'))\n",
    "\n",
    "from src.factories import ModelFactory\n",
    "from src.utils.load_cfg import ConfigLoader\n",
    "from tools.complexity import (get_model_complexity_info,\n",
    "                              is_supported_instance,\n",
    "                              flops_to_string,\n",
    "                              get_model_parameters_number)"
   ]
  },
  {
   "cell_type": "code",
   "execution_count": 2,
   "metadata": {},
   "outputs": [],
   "source": [
    "def collect_flops(model, units='GMac', precision=3):\n",
    "    \"\"\"Wrapper to collect flops and number of parameters at each layer\"\"\"\n",
    "    total_flops = model.compute_average_flops_cost()\n",
    "\n",
    "    def accumulate_flops(self):\n",
    "        if is_supported_instance(self):\n",
    "            return self.__flops__ / model.__batch_counter__\n",
    "        else:\n",
    "            sum = 0\n",
    "            for m in self.children():\n",
    "                sum += m.accumulate_flops()\n",
    "            return sum\n",
    "\n",
    "    def flops_repr(self):\n",
    "        accumulated_flops_cost = self.accumulate_flops()\n",
    "        return ', '.join([flops_to_string(accumulated_flops_cost, units=units, precision=precision),\n",
    "                          '{:.3%} MACs'.format(accumulated_flops_cost / total_flops),\n",
    "                          self.original_extra_repr()])\n",
    "\n",
    "    def add_extra_repr(m):\n",
    "        m.accumulate_flops = accumulate_flops.__get__(m)\n",
    "        flops_extra_repr = flops_repr.__get__(m)\n",
    "        if m.extra_repr != flops_extra_repr:\n",
    "            m.original_extra_repr = m.extra_repr\n",
    "            m.extra_repr = flops_extra_repr\n",
    "            assert m.extra_repr != m.original_extra_repr\n",
    "\n",
    "    def del_extra_repr(m):\n",
    "        if hasattr(m, 'original_extra_repr'):\n",
    "            m.extra_repr = m.original_extra_repr\n",
    "            del m.original_extra_repr\n",
    "        if hasattr(m, 'accumulate_flops'):\n",
    "            del m.accumulate_flops\n",
    "\n",
    "    model.apply(add_extra_repr)\n",
    "    # print(model, file=ost)\n",
    "\n",
    "    # Retrieve flops and param at each layer and sub layer (2 levels)\n",
    "    flops_dict, param_dict = {}, {}\n",
    "    for i in model._modules.keys():\n",
    "        item = model._modules[i]\n",
    "        if isinstance(model._modules[i], torch.nn.modules.container.Sequential):\n",
    "            for j in model._modules[i]._modules.keys():\n",
    "                key = '{}-{}'.format(i, j)\n",
    "                flops_dict[key] = item._modules[j].accumulate_flops()\n",
    "                param_dict[key] = get_model_parameters_number(item._modules[j])\n",
    "        else:\n",
    "            flops_dict[i] = item.accumulate_flops()\n",
    "            param_dict[i] = get_model_parameters_number(item)\n",
    "\n",
    "    model.apply(del_extra_repr)\n",
    "    return flops_dict, param_dict\n",
    "\n",
    "\n",
    "def run_experiment_flops(model, in_size, verbose=True, as_strings=True):\n",
    "    macs, params = get_model_complexity_info(model, in_size, as_strings=as_strings, print_per_layer_stat=False)\n",
    "    print('{:<30}  {:<8}'.format('Computational complexity: ', macs))\n",
    "    print('{:<30}  {:<8}'.format('Number of parameters: ', params))\n",
    "    print()\n",
    "\n",
    "    if verbose:\n",
    "        print('{:<15} {:>12} {:>12} {:>12} {:>12}'.format(\n",
    "            'Layer', 'Flops (GMac)', 'Param (M)', 'AccFlops', 'AccParam'))\n",
    "        print('-'*67)\n",
    "        flops_dict, param_dict = collect_flops(model)\n",
    "        total_flops, total_param = 0, 0\n",
    "        for k in flops_dict:\n",
    "            total_flops += flops_dict[k]*1e-9\n",
    "            total_param += param_dict[k]*1e-6\n",
    "            print('{:<15} {:>12.5f} {:>12.5f} {:>12.2f} {:>12.2f}'.format(\n",
    "                k, flops_dict[k]*1e-9, param_dict[k]*1e-6, total_flops, total_param))\n",
    "    return macs"
   ]
  },
  {
   "cell_type": "code",
   "execution_count": 3,
   "metadata": {},
   "outputs": [],
   "source": [
    "device = torch.device('cuda' if torch.cuda.is_available() else 'cpu')\n",
    "model_factory = ModelFactory()"
   ]
  },
  {
   "cell_type": "markdown",
   "metadata": {},
   "source": [
    "# TBN - ['RGB', 'Spec', 'Flow']"
   ]
  },
  {
   "cell_type": "code",
   "execution_count": 4,
   "metadata": {
    "scrolled": false
   },
   "outputs": [
    {
     "name": "stdout",
     "output_type": "stream",
     "text": [
      "RGB\n",
      " flops: 2.05*1e9, params: 10.27*1e6\n",
      "Spec\n",
      " flops: 2.57*1e9, params: 10.26*1e6\n",
      "Flow\n",
      " flops: 2.32*1e9, params: 10.29*1e6\n",
      "Total\n",
      " flops: 6.95*1e9, params: 32.64*1e6\n"
     ]
    }
   ],
   "source": [
    "model_cfg = '../configs/model_cfgs/tbn.yaml'\n",
    "model_name, model_params = ConfigLoader.load_model_cfg(model_cfg)\n",
    "\n",
    "model_params.update({\n",
    "    'num_segments': 1,\n",
    "})\n",
    "model = model_factory.generate(model_name, device=device, **model_params)\n",
    "\n",
    "rgb_flops, rgb_params = get_model_complexity_info(\n",
    "    model.rgb, (3, 224, 224), as_strings=False, print_per_layer_stat=False)\n",
    "spec_flops, spec_params = get_model_complexity_info(\n",
    "    model.spec, (1, 256, 256), as_strings=False, print_per_layer_stat=False)\n",
    "flow_flops, flow_params = get_model_complexity_info(\n",
    "    model.flow, (5*2, 224, 224), as_strings=False, print_per_layer_stat=False)\n",
    "\n",
    "fc1_flops, fc1_params = get_model_complexity_info(\n",
    "    model.fusion_classification_net.fc1, (1, 3*1024), as_strings=False, print_per_layer_stat=False)\n",
    "relu_flops, relu_params = get_model_complexity_info(\n",
    "    model.fusion_classification_net.relu, (1, 512), as_strings=False, print_per_layer_stat=False)\n",
    "fc_verb_flops, fc_verb_params = get_model_complexity_info(\n",
    "    model.fusion_classification_net.fc_verb, (1, 512), as_strings=False, print_per_layer_stat=False)\n",
    "fc_noun_flops, fc_noun_params = get_model_complexity_info(\n",
    "    model.fusion_classification_net.fc_noun, (1, 512), as_strings=False, print_per_layer_stat=False)\n",
    "\n",
    "tbn_flops = rgb_flops + spec_flops + flow_flops + \\\n",
    "            fc1_flops + relu_flops + fc_verb_flops + fc_noun_flops\n",
    "tbn_params = rgb_params + spec_params + flow_params + \\\n",
    "             fc1_params + relu_params + fc_verb_params + fc_noun_params\n",
    "\n",
    "print('RGB')\n",
    "print(' flops: {:.02f}*1e9, params: {:.02f}*1e6'.format(\n",
    "    rgb_flops*1e-9, rgb_params*1e-6))\n",
    "\n",
    "print('Spec')\n",
    "print(' flops: {:.02f}*1e9, params: {:.02f}*1e6'.format(\n",
    "    spec_flops*1e-9, spec_params*1e-6))\n",
    "\n",
    "print('Flow')\n",
    "print(' flops: {:.02f}*1e9, params: {:.02f}*1e6'.format(\n",
    "    flow_flops*1e-9, flow_params*1e-6))\n",
    "\n",
    "print('Total')\n",
    "print(' flops: {:.02f}*1e9, params: {:.02f}*1e6'.format(\n",
    "    tbn_flops*1e-9, tbn_params*1e-6))"
   ]
  },
  {
   "cell_type": "markdown",
   "metadata": {},
   "source": [
    "# TBN - ['RGB', 'Spec']"
   ]
  },
  {
   "cell_type": "code",
   "execution_count": 5,
   "metadata": {},
   "outputs": [
    {
     "name": "stdout",
     "output_type": "stream",
     "text": [
      "RGB\n",
      " flops: 2.05*1e9, params: 10.27*1e6\n",
      "Spec\n",
      " flops: 2.57*1e9, params: 10.26*1e6\n",
      "Total\n",
      " flops: 4.62*1e9, params: 21.83*1e6\n"
     ]
    }
   ],
   "source": [
    "model_cfg = '../configs/model_cfgs/tbn.yaml'\n",
    "model_name, model_params = ConfigLoader.load_model_cfg(model_cfg)\n",
    "\n",
    "model_params.update({\n",
    "    'num_segments': 1,\n",
    "    'modality': ['RGB', 'Spec']\n",
    "})\n",
    "model = model_factory.generate(model_name, device=device, **model_params)\n",
    "\n",
    "rgb_flops, rgb_params = get_model_complexity_info(\n",
    "    model.rgb, (3, 224, 224), as_strings=False, print_per_layer_stat=False)\n",
    "spec_flops, spec_params = get_model_complexity_info(\n",
    "    model.spec, (1, 256, 256), as_strings=False, print_per_layer_stat=False)\n",
    "\n",
    "fc1_flops, fc1_params = get_model_complexity_info(\n",
    "    model.fusion_classification_net.fc1, (1, 2*1024), as_strings=False, print_per_layer_stat=False)\n",
    "relu_flops, relu_params = get_model_complexity_info(\n",
    "    model.fusion_classification_net.relu, (1, 512), as_strings=False, print_per_layer_stat=False)\n",
    "fc_verb_flops, fc_verb_params = get_model_complexity_info(\n",
    "    model.fusion_classification_net.fc_verb, (1, 512), as_strings=False, print_per_layer_stat=False)\n",
    "fc_noun_flops, fc_noun_params = get_model_complexity_info(\n",
    "    model.fusion_classification_net.fc_noun, (1, 512), as_strings=False, print_per_layer_stat=False)\n",
    "\n",
    "tbn_flops = rgb_flops + spec_flops + \\\n",
    "            fc1_flops + relu_flops + fc_verb_flops + fc_noun_flops\n",
    "tbn_params = rgb_params + spec_params + \\\n",
    "             fc1_params + relu_params + fc_verb_params + fc_noun_params\n",
    "\n",
    "print('RGB')\n",
    "print(' flops: {:.02f}*1e9, params: {:.02f}*1e6'.format(\n",
    "    rgb_flops*1e-9, rgb_params*1e-6))\n",
    "\n",
    "print('Spec')\n",
    "print(' flops: {:.02f}*1e9, params: {:.02f}*1e6'.format(\n",
    "    spec_flops*1e-9, spec_params*1e-6))\n",
    "\n",
    "print('Total')\n",
    "print(' flops: {:.02f}*1e9, params: {:.02f}*1e6'.format(\n",
    "    tbn_flops*1e-9, tbn_params*1e-6))"
   ]
  },
  {
   "cell_type": "markdown",
   "metadata": {},
   "source": [
    "# SAN19 feat - 224"
   ]
  },
  {
   "cell_type": "code",
   "execution_count": 6,
   "metadata": {},
   "outputs": [
    {
     "name": "stdout",
     "output_type": "stream",
     "text": [
      "RGB\n",
      " flops: 3.84*1e9, params: 15.55*1e6\n",
      "Spec\n",
      " flops: 5.01*1e9, params: 15.55*1e6\n",
      "Total\n",
      " flops: 8.85*1e9, params: 33.44*1e6\n"
     ]
    }
   ],
   "source": [
    "model_cfg = '../configs/model_cfgs/pipeline_simple_san19pair_rgbspec.yaml'\n",
    "model_name, model_params = ConfigLoader.load_model_cfg(model_cfg)\n",
    "\n",
    "model_params.update({\n",
    "    'num_segments': 1,\n",
    "    'modality': ['RGB', 'Spec']\n",
    "})\n",
    "model = model_factory.generate(model_name, model_factory=model_factory, device=device, **model_params)\n",
    "model.to(device)\n",
    "\n",
    "# print(model.light_model)\n",
    "\n",
    "rgb_flops, rgb_params = get_model_complexity_info(\n",
    "    model.light_model.rgb, (3, 224, 224), as_strings=False, print_per_layer_stat=False)\n",
    "spec_flops, spec_params = get_model_complexity_info(\n",
    "    model.light_model.spec, (1, 256, 256), as_strings=False, print_per_layer_stat=False)\n",
    "\n",
    "fc1_flops, fc1_params = get_model_complexity_info(\n",
    "    model.actreg_model.fc1, (1, 2*2048), as_strings=False, print_per_layer_stat=False)\n",
    "relu_flops, relu_params = get_model_complexity_info(\n",
    "    model.actreg_model.relu, (1, 512), as_strings=False, print_per_layer_stat=False)\n",
    "fc_verb_flops, fc_verb_params = get_model_complexity_info(\n",
    "    model.actreg_model.fc_verb, (1, 512), as_strings=False, print_per_layer_stat=False)\n",
    "fc_noun_flops, fc_noun_params = get_model_complexity_info(\n",
    "    model.actreg_model.fc_noun, (1, 512), as_strings=False, print_per_layer_stat=False)\n",
    "\n",
    "tbn_flops = rgb_flops + spec_flops + \\\n",
    "            fc1_flops + relu_flops + fc_verb_flops + fc_noun_flops\n",
    "tbn_params = rgb_params + spec_params + \\\n",
    "             fc1_params + relu_params + fc_verb_params + fc_noun_params\n",
    "\n",
    "print('RGB')\n",
    "print(' flops: {:.02f}*1e9, params: {:.02f}*1e6'.format(\n",
    "    rgb_flops*1e-9, rgb_params*1e-6))\n",
    "\n",
    "print('Spec')\n",
    "print(' flops: {:.02f}*1e9, params: {:.02f}*1e6'.format(\n",
    "    spec_flops*1e-9, spec_params*1e-6))\n",
    "\n",
    "print('Total')\n",
    "print(' flops: {:.02f}*1e9, params: {:.02f}*1e6'.format(\n",
    "    tbn_flops*1e-9, tbn_params*1e-6))"
   ]
  },
  {
   "cell_type": "markdown",
   "metadata": {},
   "source": [
    "# SAN19 feat - 112"
   ]
  },
  {
   "cell_type": "code",
   "execution_count": 7,
   "metadata": {},
   "outputs": [
    {
     "name": "stdout",
     "output_type": "stream",
     "text": [
      "RGB\n",
      " flops: 0.92*1e9, params: 15.55*1e6\n",
      "Spec\n",
      " flops: 5.01*1e9, params: 15.55*1e6\n",
      "Total\n",
      " flops: 5.93*1e9, params: 33.44*1e6\n"
     ]
    }
   ],
   "source": [
    "model_cfg = '../configs/model_cfgs/pipeline_simple_san19pair_rgbspec_112.yaml'\n",
    "model_name, model_params = ConfigLoader.load_model_cfg(model_cfg)\n",
    "\n",
    "model_params.update({\n",
    "    'num_segments': 1,\n",
    "    'modality': ['RGB', 'Spec']\n",
    "})\n",
    "model = model_factory.generate(model_name, model_factory=model_factory, device=device, **model_params)\n",
    "model.to(device)\n",
    "\n",
    "# print(model.light_model)\n",
    "\n",
    "rgb_flops, rgb_params = get_model_complexity_info(\n",
    "    model.light_model.rgb, (3, 112, 112), as_strings=False, print_per_layer_stat=False)\n",
    "spec_flops, spec_params = get_model_complexity_info(\n",
    "    model.light_model.spec, (1, 256, 256), as_strings=False, print_per_layer_stat=False)\n",
    "\n",
    "fc1_flops, fc1_params = get_model_complexity_info(\n",
    "    model.actreg_model.fc1, (1, 2*2048), as_strings=False, print_per_layer_stat=False)\n",
    "relu_flops, relu_params = get_model_complexity_info(\n",
    "    model.actreg_model.relu, (1, 512), as_strings=False, print_per_layer_stat=False)\n",
    "fc_verb_flops, fc_verb_params = get_model_complexity_info(\n",
    "    model.actreg_model.fc_verb, (1, 512), as_strings=False, print_per_layer_stat=False)\n",
    "fc_noun_flops, fc_noun_params = get_model_complexity_info(\n",
    "    model.actreg_model.fc_noun, (1, 512), as_strings=False, print_per_layer_stat=False)\n",
    "\n",
    "tbn_flops = rgb_flops + spec_flops + \\\n",
    "            fc1_flops + relu_flops + fc_verb_flops + fc_noun_flops\n",
    "tbn_params = rgb_params + spec_params + \\\n",
    "             fc1_params + relu_params + fc_verb_params + fc_noun_params\n",
    "\n",
    "print('RGB')\n",
    "print(' flops: {:.02f}*1e9, params: {:.02f}*1e6'.format(\n",
    "    rgb_flops*1e-9, rgb_params*1e-6))\n",
    "\n",
    "print('Spec')\n",
    "print(' flops: {:.02f}*1e9, params: {:.02f}*1e6'.format(\n",
    "    spec_flops*1e-9, spec_params*1e-6))\n",
    "\n",
    "print('Total')\n",
    "print(' flops: {:.02f}*1e9, params: {:.02f}*1e6'.format(\n",
    "    tbn_flops*1e-9, tbn_params*1e-6))"
   ]
  },
  {
   "cell_type": "markdown",
   "metadata": {},
   "source": [
    "# Pipeline6"
   ]
  },
  {
   "cell_type": "code",
   "execution_count": 8,
   "metadata": {},
   "outputs": [],
   "source": [
    "def check_pipeline6(model_cfg, top_k, combine='cat'):\n",
    "    model_name, model_params = ConfigLoader.load_model_cfg(model_cfg)\n",
    "    model_params['hallu_pretrained_weights'] = '../' + model_params['hallu_pretrained_weights']\n",
    "    model_params['actreg_pretrained_weights'] = '../' + model_params['actreg_pretrained_weights']\n",
    "    model = model_factory.generate(model_name, device=device,\n",
    "                                   model_factory=model_factory, **model_params)\n",
    "    \n",
    "    # ------------------------------------------------------------------------------------------\n",
    "    # RGB 112\n",
    "    print('RGB 112')\n",
    "    rgb_112_flops, rgb_112_params = get_model_complexity_info(\n",
    "        model.low_feat_model.rgb, (3, 112, 112), as_strings=False, print_per_layer_stat=False)\n",
    "    flops_dict, param_dict = collect_flops(model.low_feat_model.rgb)\n",
    "\n",
    "    rgb_112_first_flops, rgb_112_first_params = 0, 0\n",
    "    for k in flops_dict:\n",
    "        rgb_112_first_flops += flops_dict[k]\n",
    "        rgb_112_first_params += param_dict[k]\n",
    "        if k == 'layer3-0':\n",
    "            break\n",
    "    rgb_112_second_flops = rgb_112_flops - rgb_112_first_flops\n",
    "    rgb_112_second_params = rgb_112_params - rgb_112_first_params\n",
    "    print(' flops: {}, params: {}'.format(rgb_112_flops, rgb_112_params))\n",
    "    print(' 1st half - flops: {}, params: {}'.format(rgb_112_first_flops, rgb_112_first_params))\n",
    "    print(' 2nd half - flops: {}, params: {}'.format(rgb_112_second_flops, rgb_112_second_params))\n",
    "\n",
    "    # ------------------------------------------------------------------------------------------\n",
    "    # RGB 64\n",
    "    print('RGB 64')\n",
    "    rgb_64_flops, rgb_64_params = get_model_complexity_info(\n",
    "        model.high_feat_model.rgb, (3, 64, 64), as_strings=False, print_per_layer_stat=False)\n",
    "    print(' flops: {}, params: {}'.format(rgb_64_flops, rgb_64_params))\n",
    "\n",
    "    # ------------------------------------------------------------------------------------------\n",
    "    # Spec\n",
    "    print('Spec')\n",
    "    spec_flops, spec_params = get_model_complexity_info(\n",
    "        model.low_feat_model.spec, (1, 256, 256), as_strings=False, print_per_layer_stat=False)\n",
    "    print(' flops: {}, params: {}'.format(spec_flops, spec_params))\n",
    "\n",
    "    # ------------------------------------------------------------------------------------------\n",
    "    # Hallucination\n",
    "    print('Hallucination')\n",
    "    hallu_flops, hallu_params = get_model_complexity_info(\n",
    "        model.hallu_model, (1, 32, 7, 7), as_strings=False, print_per_layer_stat=False)\n",
    "    print(' flops: {}, params: {}'.format(hallu_flops, hallu_params))\n",
    "\n",
    "    # ------------------------------------------------------------------------------------------\n",
    "    # Actreg\n",
    "    print('ActionRecognition')\n",
    "    if combine == 'cat':\n",
    "        dim = 2048*2 + 2048*top_k\n",
    "    elif combine == 'add':\n",
    "        dim = 2048\n",
    "    actreg_flops, actreg_params = get_model_complexity_info(\n",
    "        model.actreg_model, (1, dim), as_strings=False, print_per_layer_stat=False)\n",
    "    print(' flops: {}, params: {}'.format(actreg_flops, actreg_params))\n",
    "\n",
    "    # ------------------------------------------------------------------------------------------\n",
    "    # Unskipped\n",
    "    print('-'*80)\n",
    "    print('Unskipped frame')\n",
    "    unskipped_flops = rgb_112_first_flops + hallu_flops + \\\n",
    "                      rgb_112_second_flops + \\\n",
    "                      rgb_64_flops * top_k + \\\n",
    "                      spec_flops + \\\n",
    "                      actreg_flops\n",
    "    unskipped_params = rgb_112_first_params + hallu_params + \\\n",
    "                       rgb_112_second_params + \\\n",
    "                       rgb_64_params * (top_k != 0) + \\\n",
    "                       spec_params + \\\n",
    "                       actreg_params\n",
    "    print(' flops: {:.02f}*1e9, params: {:.02f}*1e6'.format(\n",
    "        unskipped_flops*1e-9, unskipped_params*1e-6))\n",
    "\n",
    "    # ------------------------------------------------------------------------------------------\n",
    "    # Skipped\n",
    "    print('Skipped frame')\n",
    "    skipped_flops = rgb_112_first_flops + hallu_flops\n",
    "    skipped_params = rgb_112_first_params + hallu_params\n",
    "    print(' flops: {:.02f}*1e9, params: {:.02f}*1e6'.format(\n",
    "        skipped_flops*1e-9, skipped_params*1e-6))\n",
    "    print(' skipped/unskipped percentage - flops: {:.02f}%, params: {:.02f}%'.format(\n",
    "        skipped_flops/unskipped_flops*100,\n",
    "        skipped_params/unskipped_params*100))"
   ]
  },
  {
   "cell_type": "code",
   "execution_count": 9,
   "metadata": {},
   "outputs": [
    {
     "name": "stdout",
     "output_type": "stream",
     "text": [
      "RGB 112\n",
      " flops: 915451790.0, params: 15547156\n",
      " 1st half - flops: 541843470.0, params: 2152036\n",
      " 2nd half - flops: 373608320.0, params: 13395120\n",
      "RGB 64\n",
      " flops: 313641192.0, params: 15547156\n",
      "Spec\n",
      " flops: 5009870464.0, params: 15547028\n",
      "Hallucination\n",
      " flops: 4536224.0, params: 92480\n",
      "ActionRecognition\n",
      " flops: 1580547.0, params: 3918301\n",
      "--------------------------------------------------------------------------------\n",
      "Unskipped frame\n",
      " flops: 5.93*1e9, params: 35.10*1e6\n",
      "Skipped frame\n",
      " flops: 0.55*1e9, params: 2.24*1e6\n",
      " skipped/unskipped percentage - flops: 9.21%, params: 6.39%\n"
     ]
    }
   ],
   "source": [
    "top_k = 0\n",
    "model_cfg = '../configs/model_cfgs/pipeline6_rgbspec_san19pairfreeze_halluconv2_actreggru2_top0_cat.yaml'\n",
    "\n",
    "check_pipeline6(model_cfg, top_k)"
   ]
  },
  {
   "cell_type": "code",
   "execution_count": 10,
   "metadata": {},
   "outputs": [
    {
     "name": "stdout",
     "output_type": "stream",
     "text": [
      "RGB 112\n",
      " flops: 915451790.0, params: 15547156\n",
      " 1st half - flops: 541843470.0, params: 2152036\n",
      " 2nd half - flops: 373608320.0, params: 13395120\n",
      "RGB 64\n",
      " flops: 313641192.0, params: 15547156\n",
      "Spec\n",
      " flops: 5009870464.0, params: 15547028\n",
      "Hallucination\n",
      " flops: 4536224.0, params: 92480\n",
      "ActionRecognition\n",
      " flops: 1580547.0, params: 4966877\n",
      "--------------------------------------------------------------------------------\n",
      "Unskipped frame\n",
      " flops: 6.25*1e9, params: 51.70*1e6\n",
      "Skipped frame\n",
      " flops: 0.55*1e9, params: 2.24*1e6\n",
      " skipped/unskipped percentage - flops: 8.75%, params: 4.34%\n"
     ]
    }
   ],
   "source": [
    "top_k = 1\n",
    "model_cfg = '../configs/model_cfgs/pipeline6_rgbspec_san19pairfreeze_halluconv2_actreggru2_top1_cat.yaml'\n",
    "\n",
    "check_pipeline6(model_cfg, top_k)"
   ]
  },
  {
   "cell_type": "code",
   "execution_count": 11,
   "metadata": {},
   "outputs": [
    {
     "name": "stdout",
     "output_type": "stream",
     "text": [
      "RGB 112\n",
      " flops: 915451790.0, params: 15547156\n",
      " 1st half - flops: 541843470.0, params: 2152036\n",
      " 2nd half - flops: 373608320.0, params: 13395120\n",
      "RGB 64\n",
      " flops: 313641192.0, params: 15547156\n",
      "Spec\n",
      " flops: 5009870464.0, params: 15547028\n",
      "Hallucination\n",
      " flops: 4536224.0, params: 92480\n",
      "ActionRecognition\n",
      " flops: 1580547.0, params: 6015453\n",
      "--------------------------------------------------------------------------------\n",
      "Unskipped frame\n",
      " flops: 6.56*1e9, params: 52.75*1e6\n",
      "Skipped frame\n",
      " flops: 0.55*1e9, params: 2.24*1e6\n",
      " skipped/unskipped percentage - flops: 8.33%, params: 4.26%\n"
     ]
    }
   ],
   "source": [
    "top_k = 2\n",
    "model_cfg = '../configs/model_cfgs/pipeline6_rgbspec_san19pairfreeze_halluconv2_actreggru2_top2_cat.yaml'\n",
    "\n",
    "check_pipeline6(model_cfg, top_k)"
   ]
  },
  {
   "cell_type": "code",
   "execution_count": 12,
   "metadata": {},
   "outputs": [
    {
     "name": "stdout",
     "output_type": "stream",
     "text": [
      "RGB 112\n",
      " flops: 915451790.0, params: 15547156\n",
      " 1st half - flops: 541843470.0, params: 2152036\n",
      " 2nd half - flops: 373608320.0, params: 13395120\n",
      "RGB 64\n",
      " flops: 313641192.0, params: 15547156\n",
      "Spec\n",
      " flops: 5009870464.0, params: 15547028\n",
      "Hallucination\n",
      " flops: 4536224.0, params: 92480\n",
      "ActionRecognition\n",
      " flops: 1580547.0, params: 7064029\n",
      "--------------------------------------------------------------------------------\n",
      "Unskipped frame\n",
      " flops: 6.87*1e9, params: 53.80*1e6\n",
      "Skipped frame\n",
      " flops: 0.55*1e9, params: 2.24*1e6\n",
      " skipped/unskipped percentage - flops: 7.95%, params: 4.17%\n"
     ]
    }
   ],
   "source": [
    "top_k = 3\n",
    "model_cfg = '../configs/model_cfgs/pipeline6_rgbspec_san19pairfreeze_halluconv2_actreggru2_top3_cat.yaml'\n",
    "\n",
    "check_pipeline6(model_cfg, top_k)"
   ]
  },
  {
   "cell_type": "markdown",
   "metadata": {},
   "source": [
    "# Pipeline5"
   ]
  },
  {
   "cell_type": "code",
   "execution_count": 13,
   "metadata": {},
   "outputs": [],
   "source": [
    "def check_pipeline5(model_cfg, top_k, combine='cat'):\n",
    "    model_name, model_params = ConfigLoader.load_model_cfg(model_cfg)\n",
    "    model = model_factory.generate(model_name, device=device,\n",
    "                                   model_factory=model_factory, **model_params)\n",
    "    model.to(device)\n",
    "\n",
    "    # ------------------------------------------------------------------------------------------\n",
    "    # RGB 112\n",
    "    print('RGB 112')\n",
    "    rgb_112_flops, rgb_112_params = get_model_complexity_info(\n",
    "        model.high_feat_model.rgb, (3, 112, 112), as_strings=False, print_per_layer_stat=False)\n",
    "    print(' flops: {}, params: {}'.format(rgb_112_flops, rgb_112_params))\n",
    "\n",
    "    # ------------------------------------------------------------------------------------------\n",
    "    # RGB 64\n",
    "    print('RGB 64')\n",
    "    rgb_64_flops, rgb_64_params = get_model_complexity_info(\n",
    "        model.high_feat_model.rgb, (3, 64, 64), as_strings=False, print_per_layer_stat=False)\n",
    "    print(' flops: {}, params: {}'.format(rgb_64_flops, rgb_64_params))\n",
    "\n",
    "    # ------------------------------------------------------------------------------------------\n",
    "    # Spec\n",
    "    print('Spec')\n",
    "    spec_flops, spec_params = get_model_complexity_info(\n",
    "        model.low_feat_model.spec, (1, 256, 256), as_strings=False, print_per_layer_stat=False)\n",
    "    print(' flops: {}, params: {}'.format(spec_flops, spec_params))\n",
    "\n",
    "    # ------------------------------------------------------------------------------------------\n",
    "    # Actreg\n",
    "    print('ActionRecognition')\n",
    "    if combine == 'cat':\n",
    "        dim = 2048*2 + 2048*top_k\n",
    "    elif combine == 'add':\n",
    "        dim = 2048\n",
    "    actreg_flops, actreg_params = get_model_complexity_info(\n",
    "        model.actreg_model, (1, dim), as_strings=False, print_per_layer_stat=False)\n",
    "    print(' flops: {}, params: {}'.format(actreg_flops, actreg_params))\n",
    "\n",
    "    # ------------------------------------------------------------------------------------------\n",
    "    # Total\n",
    "    print('-'*80)\n",
    "    print('Total')\n",
    "    total_flops = rgb_112_flops + rgb_64_flops*top_k + spec_flops + actreg_flops\n",
    "    total_params = rgb_112_params + rgb_64_params + spec_params + actreg_params\n",
    "    print(' flops: {:.02f}*1e9, params: {:.02f}*1e6'.format(\n",
    "        total_flops*1e-9, total_params*1e-6))"
   ]
  },
  {
   "cell_type": "code",
   "execution_count": 14,
   "metadata": {},
   "outputs": [
    {
     "name": "stdout",
     "output_type": "stream",
     "text": [
      "RGB 112\n",
      " flops: 915451790.0, params: 15547156\n",
      "RGB 64\n",
      " flops: 313641192.0, params: 15547156\n",
      "Spec\n",
      " flops: 5009870464.0, params: 15547028\n",
      "ActionRecognition\n",
      " flops: 1580547.0, params: 4966877\n",
      "--------------------------------------------------------------------------------\n",
      "Total\n",
      " flops: 6.24*1e9, params: 51.61*1e6\n"
     ]
    }
   ],
   "source": [
    "top_k = 1\n",
    "model_cfg = '../configs/model_cfgs/pipeline5_rgbspec_san19pairfreeze_actreggru2_top1_cat.yaml'\n",
    "\n",
    "check_pipeline5(model_cfg, top_k)"
   ]
  },
  {
   "cell_type": "code",
   "execution_count": 15,
   "metadata": {},
   "outputs": [
    {
     "name": "stdout",
     "output_type": "stream",
     "text": [
      "RGB 112\n",
      " flops: 915451790.0, params: 15547156\n",
      "RGB 64\n",
      " flops: 313641192.0, params: 15547156\n",
      "Spec\n",
      " flops: 5009870464.0, params: 15547028\n",
      "ActionRecognition\n",
      " flops: 1580547.0, params: 6015453\n",
      "--------------------------------------------------------------------------------\n",
      "Total\n",
      " flops: 6.55*1e9, params: 52.66*1e6\n"
     ]
    }
   ],
   "source": [
    "top_k = 2\n",
    "model_cfg = '../configs/model_cfgs/pipeline5_rgbspec_san19pairfreeze_actreggru2_top2_cat.yaml'\n",
    "\n",
    "check_pipeline5(model_cfg, top_k)"
   ]
  },
  {
   "cell_type": "code",
   "execution_count": 16,
   "metadata": {},
   "outputs": [
    {
     "name": "stdout",
     "output_type": "stream",
     "text": [
      "RGB 112\n",
      " flops: 915451790.0, params: 15547156\n",
      "RGB 64\n",
      " flops: 313641192.0, params: 15547156\n",
      "Spec\n",
      " flops: 5009870464.0, params: 15547028\n",
      "ActionRecognition\n",
      " flops: 1580547.0, params: 7064029\n",
      "--------------------------------------------------------------------------------\n",
      "Total\n",
      " flops: 6.87*1e9, params: 53.71*1e6\n"
     ]
    }
   ],
   "source": [
    "top_k = 3\n",
    "model_cfg = '../configs/model_cfgs/pipeline5_rgbspec_san19pairfreeze_actreggru2_top3_cat.yaml'\n",
    "\n",
    "check_pipeline5(model_cfg, top_k)"
   ]
  },
  {
   "cell_type": "markdown",
   "metadata": {},
   "source": [
    "# Pipeline4 - 112-cat"
   ]
  },
  {
   "cell_type": "code",
   "execution_count": 17,
   "metadata": {},
   "outputs": [
    {
     "name": "stdout",
     "output_type": "stream",
     "text": [
      "RGB\n",
      " flops: 915451790.0, params: 15547156\n",
      "Spec\n",
      " flops: 5009870464.0, params: 15547028\n",
      "ActionRecognition\n",
      " flops: 1580547.0, params: 3918301\n",
      "--------------------------------------------------------------------------------\n",
      "Total\n",
      " flops: 5.93*1e9, params: 35.01*1e6\n"
     ]
    }
   ],
   "source": [
    "model_cfg = '../configs/model_cfgs/pipeline4_rgbspec_san19pairfreeze112_actreggru2.yaml'\n",
    "model_name, model_params = ConfigLoader.load_model_cfg(model_cfg)\n",
    "model = model_factory.generate(model_name, device=device,\n",
    "                               model_factory=model_factory, **model_params)\n",
    "model.to(device)\n",
    "\n",
    "# ------------------------------------------------------------------------------------------\n",
    "# RGB\n",
    "print('RGB')\n",
    "rgb_flops, rgb_params = get_model_complexity_info(\n",
    "    model.feat_model.rgb, (3, 112, 112), as_strings=False, print_per_layer_stat=False)\n",
    "print(' flops: {}, params: {}'.format(rgb_flops, rgb_params))\n",
    "\n",
    "# ------------------------------------------------------------------------------------------\n",
    "# Spec\n",
    "print('Spec')\n",
    "spec_flops, spec_params = get_model_complexity_info(\n",
    "    model.feat_model.spec, (1, 256, 256), as_strings=False, print_per_layer_stat=False)\n",
    "print(' flops: {}, params: {}'.format(spec_flops, spec_params))\n",
    "\n",
    "# ------------------------------------------------------------------------------------------\n",
    "# Actreg\n",
    "print('ActionRecognition')\n",
    "actreg_flops, actreg_params = get_model_complexity_info(\n",
    "    model.actreg_model, (1, 2048*2), as_strings=False, print_per_layer_stat=False)\n",
    "print(' flops: {}, params: {}'.format(actreg_flops, actreg_params))\n",
    "\n",
    "# ------------------------------------------------------------------------------------------\n",
    "# Total\n",
    "print('-'*80)\n",
    "print('Total')\n",
    "total_flops = rgb_flops + spec_flops + actreg_flops\n",
    "total_params = rgb_params + spec_params + actreg_params\n",
    "print(' flops: {:.02f}*1e9, params: {:.02f}*1e6'.format(\n",
    "    total_flops*1e-9, total_params*1e-6))"
   ]
  },
  {
   "cell_type": "markdown",
   "metadata": {},
   "source": [
    "# Pipeline4 - 224-cat"
   ]
  },
  {
   "cell_type": "code",
   "execution_count": 18,
   "metadata": {},
   "outputs": [
    {
     "name": "stdout",
     "output_type": "stream",
     "text": [
      "RGB\n",
      " flops: 3842104602.0, params: 15547156\n",
      "Spec\n",
      " flops: 5009870464.0, params: 15547028\n",
      "ActionRecognition\n",
      " flops: 1580547.0, params: 3918301\n",
      "--------------------------------------------------------------------------------\n",
      "Total\n",
      " flops: 8.85*1e9, params: 35.01*1e6\n"
     ]
    }
   ],
   "source": [
    "model_cfg = '../configs/model_cfgs/pipeline4_rgbspec_san19pairfreeze_actreggru2.yaml'\n",
    "model_name, model_params = ConfigLoader.load_model_cfg(model_cfg)\n",
    "model = model_factory.generate(model_name, device=device,\n",
    "                               model_factory=model_factory, **model_params)\n",
    "model.to(device)\n",
    "\n",
    "# ------------------------------------------------------------------------------------------\n",
    "# RGB\n",
    "print('RGB')\n",
    "rgb_flops, rgb_params = get_model_complexity_info(\n",
    "    model.feat_model.rgb, (3, 224, 224), as_strings=False, print_per_layer_stat=False)\n",
    "print(' flops: {}, params: {}'.format(rgb_flops, rgb_params))\n",
    "\n",
    "# ------------------------------------------------------------------------------------------\n",
    "# Spec\n",
    "print('Spec')\n",
    "spec_flops, spec_params = get_model_complexity_info(\n",
    "    model.feat_model.spec, (1, 256, 256), as_strings=False, print_per_layer_stat=False)\n",
    "print(' flops: {}, params: {}'.format(spec_flops, spec_params))\n",
    "\n",
    "# ------------------------------------------------------------------------------------------\n",
    "# Actreg\n",
    "print('ActionRecognition')\n",
    "actreg_flops, actreg_params = get_model_complexity_info(\n",
    "    model.actreg_model, (1, 2048*2), as_strings=False, print_per_layer_stat=False)\n",
    "print(' flops: {}, params: {}'.format(actreg_flops, actreg_params))\n",
    "\n",
    "# ------------------------------------------------------------------------------------------\n",
    "# Total\n",
    "print('-'*80)\n",
    "print('Total')\n",
    "total_flops = rgb_flops + spec_flops + actreg_flops\n",
    "total_params = rgb_params + spec_params + actreg_params\n",
    "print(' flops: {:.02f}*1e9, params: {:.02f}*1e6'.format(\n",
    "    total_flops*1e-9, total_params*1e-6))"
   ]
  },
  {
   "cell_type": "markdown",
   "metadata": {},
   "source": [
    "# SAN feat 112, layer vs FLOPS"
   ]
  },
  {
   "cell_type": "code",
   "execution_count": 19,
   "metadata": {},
   "outputs": [
    {
     "data": {
      "image/png": "[encoded data removed]",
      "text/plain": [
       "<Figure size 1080x504 with 1 Axes>"
      ]
     },
     "metadata": {},
     "output_type": "display_data"
    }
   ],
   "source": [
    "model_cfg = '../configs/model_cfgs/pipeline_simple_san19pair_rgbspec_112.yaml'\n",
    "model_name, model_params = ConfigLoader.load_model_cfg(model_cfg)\n",
    "\n",
    "model_params.update({\n",
    "    'num_segments': 1,\n",
    "    'modality': ['RGB']\n",
    "})\n",
    "model = model_factory.generate(model_name, model_factory=model_factory, device=device, **model_params)\n",
    "model.to(device)\n",
    "\n",
    "flops, params = get_model_complexity_info(\n",
    "    model.light_model.rgb, (3, 112, 112), as_strings=False, print_per_layer_stat=False)\n",
    "flops_dict, params_dict = collect_flops(model.light_model.rgb)\n",
    "\n",
    "layers_lst, acc_flops_lst, acc_params_lst = [], [], []\n",
    "for k in flops_dict:\n",
    "    layers_lst.append(k)\n",
    "    if len(acc_flops_lst) == 0:\n",
    "        acc_flops_lst.append(flops_dict[k])\n",
    "        #acc_params_lst.append(params_dict[k])\n",
    "    else:\n",
    "        acc_flops_lst.append(flops_dict[k] + acc_flops_lst[-1])\n",
    "        #acc_params_lst.append(params_dict[k] + acc_params_lst[-1])\n",
    "\n",
    "sns.set(font_scale=1.5)\n",
    "fig, ax = plt.subplots(1, 1, figsize=(15, 7))\n",
    "ax.plot(acc_flops_lst, 'o-', label='FLOPS')\n",
    "ax.set_ylabel('FLOPS')\n",
    "    \n",
    "_ = plt.xticks(np.arange(len(layers_lst)), layers_lst, rotation='vertical')\n",
    "# plt.legend()\n",
    "# plt.savefig('layer_flops_analysis.pdf', bbox_inches='tight')"
   ]
  }
 ],
 "metadata": {
  "kernelspec": {
   "display_name": "Python 3",
   "language": "python",
   "name": "python3"
  },
  "language_info": {
   "codemirror_mode": {
    "name": "ipython",
    "version": 3
   },
   "file_extension": ".py",
   "mimetype": "text/x-python",
   "name": "python",
   "nbconvert_exporter": "python",
   "pygments_lexer": "ipython3",
   "version": "3.6.12"
  }
 },
 "nbformat": 4,
 "nbformat_minor": 4
}
